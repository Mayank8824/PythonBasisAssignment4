{
 "cells": [
  {
   "cell_type": "code",
   "execution_count": null,
   "id": "6a715ba0",
   "metadata": {},
   "outputs": [],
   "source": [
    "1. What exactly is []?"
   ]
  },
  {
   "cell_type": "code",
   "execution_count": null,
   "id": "5d6e9a5f",
   "metadata": {},
   "outputs": [],
   "source": [
    "Ans1. [] represents an empty list. An empty list is simply a list with no elements in it."
   ]
  },
  {
   "cell_type": "code",
   "execution_count": null,
   "id": "8cf0504e",
   "metadata": {},
   "outputs": [],
   "source": [
    "2. In a list of values stored in a variable called spam, how would you assign the value 'hello' as the\n",
    "third value? (Assume [2, 4, 6, 8, 10] are in spam.)\n",
    "\n"
   ]
  },
  {
   "cell_type": "code",
   "execution_count": null,
   "id": "76d1abf8",
   "metadata": {},
   "outputs": [],
   "source": [
    "Ans2. \n",
    "\n",
    "spam = [2, 4, 6, 8, 10]\n",
    "spam[2] = 'hello' \n",
    "\n",
    "After this assignment, the list spam will become [2, 4, 'hello', 8, 10], with 'hello' at the third position."
   ]
  },
  {
   "cell_type": "code",
   "execution_count": null,
   "id": "03635c22",
   "metadata": {},
   "outputs": [],
   "source": [
    "## Let's pretend the spam includes the list ['a', 'b', 'c', 'd'] for the next three queries."
   ]
  },
  {
   "cell_type": "code",
   "execution_count": null,
   "id": "d7661397",
   "metadata": {},
   "outputs": [],
   "source": [
    "3. What is the value of spam[int(int('3' * 2) / 11)]?"
   ]
  },
  {
   "cell_type": "code",
   "execution_count": null,
   "id": "9df4c1fb",
   "metadata": {},
   "outputs": [],
   "source": [
    "Ans3. [3]\n",
    "\n",
    "If spam contains the list ['a', 'b', 'c', 'd'], \n",
    "then the value of spam[int(int('3' * 2) / 11)] would be 'd', which is the element at index 3 in the list"
   ]
  },
  {
   "cell_type": "code",
   "execution_count": null,
   "id": "c94a3e9d",
   "metadata": {},
   "outputs": [],
   "source": [
    "4. What is the value of spam[-1] if spam has list ['a', 'b', 'c', 'd']?"
   ]
  },
  {
   "cell_type": "code",
   "execution_count": null,
   "id": "ec43123e",
   "metadata": {},
   "outputs": [],
   "source": [
    "Ans4. \n",
    "\n",
    "If spam contains the list ['a', 'b', 'c', 'd'], \n",
    "then the value of spam[-1] would be 'd'."
   ]
  },
  {
   "cell_type": "code",
   "execution_count": null,
   "id": "45f12588",
   "metadata": {},
   "outputs": [],
   "source": [
    "5. What is the value of spam[:2]  if spam has list ['a', 'b', 'c', 'd']?"
   ]
  },
  {
   "cell_type": "code",
   "execution_count": null,
   "id": "4ca62d76",
   "metadata": {},
   "outputs": [],
   "source": [
    "Ans5. \n",
    "\n",
    "If spam contains the list ['a', 'b', 'c', 'd'], \n",
    "then the value of spam[:2] would be ['a', 'b']."
   ]
  },
  {
   "cell_type": "code",
   "execution_count": null,
   "id": "62593359",
   "metadata": {},
   "outputs": [],
   "source": [
    "### Let's pretend bacon has the list [3.14, 'cat', 11, 'cat', True] for the next three questions."
   ]
  },
  {
   "cell_type": "code",
   "execution_count": null,
   "id": "105063e2",
   "metadata": {},
   "outputs": [],
   "source": [
    "6. What is the value of bacon.index('cat')?"
   ]
  },
  {
   "cell_type": "code",
   "execution_count": null,
   "id": "cc51b2d2",
   "metadata": {},
   "outputs": [],
   "source": [
    "Ans6. [1]\n",
    "\n",
    "If bacon contains the list [3.14, 'cat', 11, 'cat', True], \n",
    "then the value of bacon.index('cat') would be 1."
   ]
  },
  {
   "cell_type": "code",
   "execution_count": null,
   "id": "e7e664d5",
   "metadata": {},
   "outputs": [],
   "source": [
    "7. How does bacon.append(99) change the look of the list value in bacon?"
   ]
  },
  {
   "cell_type": "code",
   "execution_count": null,
   "id": "6f7b839e",
   "metadata": {},
   "outputs": [],
   "source": [
    "Ans7. the list bacon will be updated to [3.14, 'cat', 11, 'cat', True, 99]."
   ]
  },
  {
   "cell_type": "code",
   "execution_count": null,
   "id": "2f814a3e",
   "metadata": {},
   "outputs": [],
   "source": [
    "8. How does bacon.remove('cat') change the look of the list in bacon?"
   ]
  },
  {
   "cell_type": "code",
   "execution_count": null,
   "id": "210d84ad",
   "metadata": {},
   "outputs": [],
   "source": [
    "Ans8. The operation will remove the first occurrence of the value 'cat' from the list. \n",
    "After performing bacon.remove('cat'), the list bacon will be updated to [3.14, 11, 'cat', True]."
   ]
  },
  {
   "cell_type": "code",
   "execution_count": null,
   "id": "c4837da1",
   "metadata": {},
   "outputs": [],
   "source": [
    "9. What are the list concatenation and list replication operators?"
   ]
  },
  {
   "cell_type": "code",
   "execution_count": null,
   "id": "0531dc95",
   "metadata": {},
   "outputs": [],
   "source": [
    "Ans9. \n",
    "\n",
    "1. List Concatenation (+):\n",
    "The + operator is used to concatenate (combine) two or more lists into a single list. \n",
    "It creates a new list containing all the elements of the operand lists in the order they appear.\n",
    "\n",
    "Example:\n",
    "\n",
    "list1 = [1, 2, 3]\n",
    "list2 = [4, 5, 6]\n",
    "concatenated_list = list1 + list2\n",
    "# Result: [1, 2, 3, 4, 5, 6]\n",
    "\n",
    "\n",
    "2. List Replication (*):\n",
    "The * operator is used to replicate a list by repeating its elements a specified number of times. \n",
    "It creates a new list that contains multiple copies of the original list's elements.\n",
    "\n",
    "Example:\n",
    "\n",
    "original_list = [0, 1]\n",
    "replicated_list = original_list * 3\n",
    "# Result: [0, 1, 0, 1, 0, 1]"
   ]
  },
  {
   "cell_type": "code",
   "execution_count": null,
   "id": "64f5b561",
   "metadata": {},
   "outputs": [],
   "source": [
    "10. What is difference between the list methods append() and insert()?"
   ]
  },
  {
   "cell_type": "code",
   "execution_count": null,
   "id": "115c19ce",
   "metadata": {},
   "outputs": [],
   "source": [
    "Ans10. \n",
    "\n",
    "1. append() Method:\n",
    "The append() method is used to add an element to the end of a list. \n",
    "It takes a single argument, which is the value you want to add, and it places that value at the end of the list. \n",
    "\n",
    "Example:\n",
    "\n",
    "my_list = [1, 2, 3]\n",
    "my_list.append(4)\n",
    "# Result: my_list is now [1, 2, 3, 4]\n",
    "\n",
    "\n",
    "2. insert() Method:\n",
    "The insert() method is used to add an element at a specific index in the list. \n",
    "It takes two arguments: the index where you want to insert the element, and the value of the element you want to insert. \n",
    "\n",
    "Example:\n",
    "\n",
    "my_list = [1, 2, 3]\n",
    "my_list.insert(1, 4)\n",
    "# Result: my_list is now [1, 4, 2, 3]\n"
   ]
  },
  {
   "cell_type": "code",
   "execution_count": null,
   "id": "42bdd82e",
   "metadata": {},
   "outputs": [],
   "source": [
    "11. What are the two methods for removing items from a list?"
   ]
  },
  {
   "cell_type": "code",
   "execution_count": null,
   "id": "cc751aff",
   "metadata": {},
   "outputs": [],
   "source": [
    "Ans11. There are two commonly used methods for removing items from a list in Python:\n",
    "\n",
    "1. remove() Method:\n",
    "The remove() method is used to remove the first occurrence of a specified value from the list. \n",
    "It takes a single argument, which is the value you want to remove. If the value appears multiple times in the list, only the first occurrence is removed.\n",
    "\n",
    "Example:\n",
    "\n",
    "my_list = [1, 2, 3, 2, 4]\n",
    "my_list.remove(2)\n",
    "# Result: my_list is now [1, 3, 2, 4]\n",
    "\n",
    "\n",
    "2. pop() Method:\n",
    "The pop() method is used to remove an element at a specific index from the list. \n",
    "It takes an optional index argument, which specifies the index of the element to remove. If the index is not provided, the last element is removed. \n",
    "\n",
    "Example:\n",
    "\n",
    "my_list = [1, 2, 3, 4]\n",
    "removed_value = my_list.pop(1)\n",
    "# Result: my_list is now [1, 3, 4], and removed_value is 2\n"
   ]
  },
  {
   "cell_type": "code",
   "execution_count": null,
   "id": "473b22a6",
   "metadata": {},
   "outputs": [],
   "source": [
    "12. Describe how list values and string values are identical."
   ]
  },
  {
   "cell_type": "code",
   "execution_count": null,
   "id": "2ff25897",
   "metadata": {},
   "outputs": [],
   "source": [
    "Ans12. \n",
    "\n",
    "1. Both lists and strings are sequential data types.meaning they contain an ordered sequence of elements.\n",
    "2. Both lists and strings allow indexing, which means you can access individual elements by their position within the sequence.\n",
    "3. Both lists and strings support slicing, allowing you to extract a portion of the sequence using the colon : notation.\n",
    "4. We can iterate over both lists and strings using loops.\n",
    "5. Both lists and strings support concatenation. We can use the + operator to combine lists or strings.\n"
   ]
  },
  {
   "cell_type": "code",
   "execution_count": null,
   "id": "e7c188de",
   "metadata": {},
   "outputs": [],
   "source": [
    "13. What's the difference between tuples and lists?"
   ]
  },
  {
   "cell_type": "code",
   "execution_count": null,
   "id": "3205ce52",
   "metadata": {},
   "outputs": [],
   "source": [
    "Ans13. \n",
    "\n",
    "Tuples and lists are both data structures in Python used to store collections of items, but they have some key differences:\n",
    "\n",
    "1. Mutability:\n",
    "\n",
    "Lists: Lists are mutable, which means you can change their contents after creation. You can add, remove, or modify elements in a list using methods like append(), insert(), remove(), and more.\n",
    "Tuples: Tuples are immutable, meaning their elements cannot be changed after creation. Once you define a tuple, you cannot modify, add, or remove elements from it.\n",
    "    \n",
    "2. Syntax:\n",
    "\n",
    "Lists: Lists are defined using square brackets [] and the elements are separated by commas. For example: [1, 2, 3].\n",
    "Tuples: Tuples are defined using parentheses () and the elements are also separated by commas. For example: (1, 2, 3).\n",
    "        "
   ]
  },
  {
   "cell_type": "code",
   "execution_count": null,
   "id": "27e23bbd",
   "metadata": {},
   "outputs": [],
   "source": [
    "14. How do you type a tuple value that only contains the integer 42?"
   ]
  },
  {
   "cell_type": "code",
   "execution_count": null,
   "id": "66d51dfb",
   "metadata": {},
   "outputs": [],
   "source": [
    "Ans14. To create a tuple that contains only the integer 42, you can enclose the value within parentheses ():\n",
    "\n",
    "my_tuple = (42,)"
   ]
  },
  {
   "cell_type": "code",
   "execution_count": null,
   "id": "7ef5e495",
   "metadata": {},
   "outputs": [],
   "source": [
    "15. How do you get a list value's tuple form? How do you get a tuple value's list form?"
   ]
  },
  {
   "cell_type": "code",
   "execution_count": null,
   "id": "3f6ec0cc",
   "metadata": {},
   "outputs": [],
   "source": [
    "Ans15. \n",
    "\n",
    "1. Converting a List to a Tuple:\n",
    "convert a list to a tuple using the tuple() function. \n",
    "\n",
    "Example :\n",
    "my_list = [1, 2, 3]\n",
    "my_tuple = tuple(my_list)\n",
    "\n",
    "In this example, the list [1, 2, 3] is converted into the tuple (1, 2, 3).\n",
    "\n",
    "2. Converting a Tuple to a List:\n",
    "convert a tuple to a list using the list() function. \n",
    "\n",
    "Example :\n",
    "my_tuple = (1, 2, 3)\n",
    "my_list = list(my_tuple)\n",
    "\n",
    "In this example, the tuple (1, 2, 3) is converted into the list [1, 2, 3]."
   ]
  },
  {
   "cell_type": "code",
   "execution_count": null,
   "id": "db27b722",
   "metadata": {},
   "outputs": [],
   "source": [
    "16. Variables that\"contain\" list values are not necessarily lists themselves. Instead, what do they\n",
    "contain?"
   ]
  },
  {
   "cell_type": "code",
   "execution_count": null,
   "id": "ecdd66dc",
   "metadata": {},
   "outputs": [],
   "source": [
    "Ans16. Variables that \"contain\" list values in Python do not actually contain the list itself. \n",
    "Instead, they contain references or pointers to the list in memory.\n",
    "\n",
    "When you assign a list to a variable, you're not storing the entire list directly in that variable. \n",
    "Instead, the variable holds a reference to the memory location where the list is stored.\n",
    "\n",
    "Example :\n",
    "list1 = [1, 2, 3]\n",
    "list2 = list1\n",
    "\n",
    "list2.append(4)\n",
    "\n",
    "print(list1)  # Output: [1, 2, 3, 4]\n",
    "\n",
    "In this example, both list1 and list2 refer to the same list object in memory. When we append an element to list2, the change is also reflected in list1."
   ]
  },
  {
   "cell_type": "code",
   "execution_count": null,
   "id": "2be74ea7",
   "metadata": {},
   "outputs": [],
   "source": [
    "17. How do you distinguish between copy.copy() and copy.deepcopy()?"
   ]
  },
  {
   "cell_type": "code",
   "execution_count": null,
   "id": "87efe9d7",
   "metadata": {},
   "outputs": [],
   "source": [
    "Ans17. \n",
    "\n",
    "1. copy.copy():\n",
    "The copy.copy() function creates a shallow copy of an object. A shallow copy creates a new object, but it does not create copies of the nested objects contained within the original object. Instead, it copies references to these nested objects. \n",
    "As a result, changes made to the nested objects within the copy are also reflected in the original, and vice versa.\n",
    "\n",
    "Example:\n",
    "import copy\n",
    "\n",
    "original_list = [[1, 2, 3], [4, 5, 6]]\n",
    "shallow_copy = copy.copy(original_list)\n",
    "\n",
    "shallow_copy[0][0] = 0\n",
    "print(original_list)  # Output: [[0, 2, 3], [4, 5, 6]]\n",
    "\n",
    "\n",
    "2. copy.deepcopy():\n",
    "The copy.deepcopy() function creates a deep copy of an object. A deep copy creates a completely independent copy of the object and all the objects nested within it. \n",
    "Changes made to the nested objects within the deep copy do not affect the original object, and vice versa.\n",
    "\n",
    "Example:\n",
    "\n",
    "import copy\n",
    "\n",
    "original_list = [[1, 2, 3], [4, 5, 6]]\n",
    "deep_copy = copy.deepcopy(original_list)\n",
    "\n",
    "deep_copy[0][0] = 0\n",
    "print(original_list)  # Output: [[1, 2, 3], [4, 5, 6]]\n",
    "\n",
    "\n",
    "In summary, copy.copy() creates a shallow copy that shares references to nested objects, while copy.deepcopy() creates a deep copy that duplicates the entire object hierarchy, making it truly independent from the original. \n",
    "Use copy.copy() when you need a new object structure but don't necessarily need a full independent copy of the nested objects. \n",
    "Use copy.deepcopy() when you want to create a completely independent copy of all nested objects."
   ]
  }
 ],
 "metadata": {
  "kernelspec": {
   "display_name": "Python 3 (ipykernel)",
   "language": "python",
   "name": "python3"
  },
  "language_info": {
   "codemirror_mode": {
    "name": "ipython",
    "version": 3
   },
   "file_extension": ".py",
   "mimetype": "text/x-python",
   "name": "python",
   "nbconvert_exporter": "python",
   "pygments_lexer": "ipython3",
   "version": "3.11.3"
  }
 },
 "nbformat": 4,
 "nbformat_minor": 5
}
